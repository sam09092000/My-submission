{
  "metadata": {
    "kernelspec": {
      "name": "python",
      "display_name": "Pyolite",
      "language": "python"
    },
    "language_info": {
      "codemirror_mode": {
        "name": "python",
        "version": 3
      },
      "file_extension": ".py",
      "mimetype": "text/x-python",
      "name": "python",
      "nbconvert_exporter": "python",
      "pygments_lexer": "ipython3",
      "version": "3.8"
    }
  },
  "nbformat_minor": 4,
  "nbformat": 4,
  "cells": [
    {
      "cell_type": "markdown",
      "source": "<center>\n    <img src=\"https://s3-api.us-geo.objectstorage.softlayer.net/cf-courses-data/CognitiveClass/Logos/organization_logo/organization_logo.png\" width=\"300\" alt=\"cognitiveclass.ai logo\"  />\n</center>\n",
      "metadata": {}
    },
    {
      "cell_type": "markdown",
      "source": "# My Jupyter Notebook on IBM Watson Studio",
      "metadata": {}
    },
    {
      "cell_type": "markdown",
      "source": "**Samruddhi Domde**",
      "metadata": {}
    },
    {
      "cell_type": "markdown",
      "source": "**Data Science Student**",
      "metadata": {}
    },
    {
      "cell_type": "markdown",
      "source": "*I'm Interested in data science because it's a fascinating field that benefits from an endless variety of applications.*",
      "metadata": {}
    },
    {
      "cell_type": "code",
      "source": "def gauss(n):\n    return (n*(n+1))/2\n\ngauss(100) == sum(range(101))",
      "metadata": {
        "trusted": true
      },
      "execution_count": 3,
      "outputs": [
        {
          "execution_count": 3,
          "output_type": "execute_result",
          "data": {
            "text/plain": "True"
          },
          "metadata": {}
        }
      ]
    },
    {
      "cell_type": "markdown",
      "source": "* Doughnuts\n* Chiken nuggets\n* Lasagna\n* Chiken lollypop\n* Momos",
      "metadata": {}
    },
    {
      "cell_type": "markdown",
      "source": "| Doughnuts | Chiken Nuggets | Lasagna | Chiken lollypop | Momos |\n| --------- |--------------- | ------- | --------------- | ----- |\n| -1 | 4.8 | 3.9 | 4.5 | 4 |",
      "metadata": {}
    },
    {
      "cell_type": "code",
      "source": "",
      "metadata": {},
      "execution_count": null,
      "outputs": []
    }
  ]
}